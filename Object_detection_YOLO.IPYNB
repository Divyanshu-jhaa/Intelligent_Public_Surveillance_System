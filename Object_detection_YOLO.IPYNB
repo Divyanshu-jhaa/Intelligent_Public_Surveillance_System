{
 "cells": [
  {
   "cell_type": "code",
   "execution_count": 2,
   "metadata": {},
   "outputs": [],
   "source": [
    "import cv2\n",
    "import numpy as np\n",
    "import matplotlib.pyplot as plt"
   ]
  },
  {
   "cell_type": "code",
   "execution_count": 3,
   "metadata": {},
   "outputs": [],
   "source": [
    "yolo=cv2.dnn.readNet(\"./yolov3.weights\",\"./yolov3.cfg\")"
   ]
  },
  {
   "cell_type": "code",
   "execution_count": 4,
   "metadata": {},
   "outputs": [],
   "source": [
    "classes=[]\n",
    "with open(\"./coco.names\",'r') as f:\n",
    "    classes=f.read().splitlines()"
   ]
  },
  {
   "cell_type": "code",
   "execution_count": 10,
   "metadata": {},
   "outputs": [],
   "source": [
    "import cv2\n",
    "import numpy as np\n",
    "\n",
    "video = cv2.VideoCapture(\"http://192.0.0.4:8080/video\")\n",
    "# video = cv2.VideoCapture(0)\n",
    "\n",
    "frame_width = int(video.get(cv2.CAP_PROP_FRAME_WIDTH))\n",
    "frame_height = int(video.get(cv2.CAP_PROP_FRAME_HEIGHT))\n",
    "frame_rate = int(video.get(cv2.CAP_PROP_FPS))\n",
    "\n",
    "frame_width = 600\n",
    "frame_height = 400\n",
    "\n",
    "skip_frames = 5\n",
    "\n",
    "while True:\n",
    "    for _ in range(skip_frames):\n",
    "        \n",
    "        ret, _ = video.read()\n",
    "\n",
    "    ret, frame = video.read()\n",
    "\n",
    "    if not ret:\n",
    "        break\n",
    "\n",
    "    frame = cv2.resize(frame, (frame_width, frame_height))\n",
    "    height, width, _ = frame.shape\n",
    "    blob = cv2.dnn.blobFromImage(frame, 1/255, (320, 320), (0, 0, 0), swapRB=True, crop=False)\n",
    "\n",
    "\n",
    "    yolo.setInput(blob)\n",
    "    output_layer_name = yolo.getUnconnectedOutLayersNames()\n",
    "    layeroutput = yolo.forward(output_layer_name)\n",
    "    boxes = []\n",
    "    confidences = []\n",
    "    class_ids = []\n",
    "\n",
    "    for output in layeroutput:\n",
    "        for detection in output:\n",
    "            scores = detection[5:]\n",
    "            class_id = np.argmax(scores)\n",
    "            confidence = scores[class_id]\n",
    "            if confidence > 0.7:\n",
    "                center_x = int(detection[0] * width)\n",
    "                center_y = int(detection[1] * height)\n",
    "                w = int(detection[2] * width)\n",
    "                h = int(detection[3] * height)\n",
    "                x = int(center_x - w / 2)\n",
    "                y = int(center_y - h / 2)\n",
    "                boxes.append([x, y, w, h])\n",
    "                confidences.append(float(confidence))\n",
    "                class_ids.append(class_id)\n",
    "\n",
    "    indexes = cv2.dnn.NMSBoxes(boxes, confidences, 0.5, 0.4)\n",
    "    font = cv2.FONT_HERSHEY_PLAIN\n",
    "    colors = np.random.uniform(0, 255, size=(len(boxes), 3))\n",
    "    num_person=0\n",
    "    if(len(indexes)>0):\n",
    "        for i in indexes.flatten():\n",
    "            x, y, w, h = boxes[i]\n",
    "            label = str(classes[class_ids[i]])\n",
    "            if(class_ids[i]==0):\n",
    "                num_person+=1\n",
    "            confi = str(round(confidences[i], 2))\n",
    "            color = colors[i]\n",
    "            cv2.rectangle(frame, (x, y), (x+w, y+h), color, 1)\n",
    "            cv2.putText(frame, label + \" \" + confi, (x, y+20), font, 2, (0, 0, 0), 1)\n",
    "    cv2.putText(frame, \"Persons\" + \" \" + str(num_person), (20, 20), font, 2, (0, 0, 0), 2)\n",
    "\n",
    "    cv2.imshow('video', frame)\n",
    "\n",
    "    if cv2.waitKey(1) & 0xFF==ord('q'):\n",
    "        break\n",
    "\n",
    "video.release()\n",
    "cv2.destroyAllWindows()\n"
   ]
  }
 ],
 "metadata": {
  "kernelspec": {
   "display_name": "Python 3",
   "language": "python",
   "name": "python3"
  },
  "language_info": {
   "codemirror_mode": {
    "name": "ipython",
    "version": 3
   },
   "file_extension": ".py",
   "mimetype": "text/x-python",
   "name": "python",
   "nbconvert_exporter": "python",
   "pygments_lexer": "ipython3",
   "version": "3.12.1"
  }
 },
 "nbformat": 4,
 "nbformat_minor": 2
}
